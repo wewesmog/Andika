{
 "cells": [
  {
   "cell_type": "code",
   "execution_count": null,
   "metadata": {
    "vscode": {
     "languageId": "xml"
    }
   },
   "outputs": [],
   "source": [
    "# LLM"
   ]
  },
  {
   "cell_type": "code",
   "execution_count": null,
   "metadata": {},
   "outputs": [],
   "source": [
    "from openai import OpenAI\n",
    "from typing import List, Dict, Any, Optional\n",
    "import os\n",
    "import traceback\n",
    "\n",
    "OPENAI_API_KEY = os.getenv(\"OPENAI_API_KEY\")\n",
    "openai_client = OpenAI(api_key=OPENAI_API_KEY)\n",
    "\n",
    "def call_llm_api(messages: List[Dict[str, str]], \n",
    "                model: str = \"gpt-4o-mini-2024-07-18\",\n",
    "                max_tokens: int = 2000,\n",
    "                temperature: float = 0.3) -> Any:\n",
    "    \"\"\"\n",
    "    Make a call to the OpenAI API for chat completions.\n",
    "    \"\"\"\n",
    "    try:\n",
    "        response = openai_client.chat.completions.create(\n",
    "            model=model,\n",
    "            messages=messages,\n",
    "            max_tokens=max_tokens,\n",
    "            temperature=temperature,\n",
    "        )\n",
    "        return response.choices[0].message.content\n",
    "    except Exception as e:\n",
    "        print(f\"Error in OpenAI API call: {e}\")\n",
    "        raise"
   ]
  },
  {
   "cell_type": "code",
   "execution_count": null,
   "metadata": {},
   "outputs": [],
   "source": [
    "#Logger"
   ]
  },
  {
   "cell_type": "code",
   "execution_count": 4,
   "metadata": {},
   "outputs": [],
   "source": [
    "import os\n",
    "import logging\n",
    "from logging.handlers import TimedRotatingFileHandler\n",
    "from datetime import datetime, timezone\n",
    "\n",
    "\n",
    "def setup_logger(log_level=logging.INFO):\n",
    "    main_project_directory = os.path.abspath(os.path.join(os.path.dirname(__file__), '..', '..'))\n",
    "    log_folder = os.path.join(main_project_directory, \"logs\")\n",
    "    if not os.path.exists(log_folder):\n",
    "        os.makedirs(log_folder)\n",
    "    log_file_path = os.path.join(log_folder, f\"query_state_log_{datetime.now().strftime('%Y-%m-%d')}.log\")\n",
    "    logger = logging.getLogger(\"QueryStateLogger\")\n",
    "    if not logger.handlers:\n",
    "        logger.setLevel(log_level)\n",
    "        file_handler = TimedRotatingFileHandler(log_file_path, when=\"midnight\", interval=1, backupCount=30)\n",
    "        console_handler = logging.StreamHandler()\n",
    "        formatter = logging.Formatter('%(asctime)s - %(name)s - %(levelname)s - %(message)s')\n",
    "        file_handler.setFormatter(formatter)\n",
    "        console_handler.setFormatter(formatter)\n",
    "        logger.addHandler(file_handler)\n",
    "        logger.addHandler(console_handler)\n",
    "    return logger"
   ]
  },
  {
   "cell_type": "code",
   "execution_count": 8,
   "metadata": {},
   "outputs": [],
   "source": [
    "from typing import TypedDict\n",
    "\n",
    "class MainState(TypedDict):\n",
    "    user_id: str\n",
    "    session_id: str\n",
    "    conversation_id: str\n",
    "    user_input: str\n",
    "    conversation_history: list\n",
    "    node_history: list\n",
    "    document_templates: list\n",
    "    document_history: list\n",
    "    strucure: list\n",
    "\n",
    "    "
   ]
  },
  {
   "cell_type": "code",
   "execution_count": 9,
   "metadata": {},
   "outputs": [],
   "source": [
    "from typing import Dict, Any\n",
    "from datetime import datetime, timezone\n",
    "import json"
   ]
  },
  {
   "cell_type": "code",
   "execution_count": null,
   "metadata": {},
   "outputs": [],
   "source": [
    "def Andika(state: MainState) -> MainState:\n",
    "    \"\"\"\n",
    "    Andika is an AI agent that can be used to generate documents based on user requirements and context.\n",
    "    \"\"\"\n",
    "    logger.info(\"Andika started with state: %s\", json.dumps(state, indent=2))\n",
    "\n",
    "    # Retrieve state parameters\n",
    "    user_id = state['user_id']\n",
    "    session_id = state['session_id']\n",
    "    conversation_id = state['conversation_id']\n",
    "    user_input = state['user_input']\n",
    "    conversation_history = state['conversation_history']\n",
    "    node_history = state['node_history']\n",
    "    document_templates = state['document_templates']\n",
    "    document_history = state['document_history']    \n"
   ]
  },
  {
   "cell_type": "code",
   "execution_count": null,
   "metadata": {},
   "outputs": [],
   "source": [
    "def doc_structure(state: MainState) -> MainState:\n",
    "    \"\"\"\n",
    "    doc_structure is an AI agent that can be used to generate document structure based on user requirements and context.\n",
    "    \"\"\"\n",
    "    print(\"doc_structure started with state: %s\", json.dumps(state, indent=2))\n",
    "    user_id = state['user_id']\n",
    "    session_id = state['session_id']\n",
    "    conversation_id = state['conversation_id']\n",
    "    user_input = state['user_input']\n",
    "    conversation_history = state['conversation_history']\n",
    "    node_history = state['node_history']\n",
    "    document_templates = state['document_templates']\n",
    "    document_history = state['document_history']\n",
    "    strategy_history = state['strategy_history']\n",
    "    reflection_history = state['reflection_history']\n",
    "    requirements_history = state['requirements_history']\n",
    "    structure_history = state['structure_history']\n",
    "\n",
    "    prompt = f\"\"\"\n",
    "    You are a document structure expert. Given the context below, generate a document structure (outline of a document) that will help other agents generate a document.\n",
    "    You are part of team of agents that are generating a document. You will get requests from andika agent.\n",
    "    Context:\n",
    "    {user_input}\n",
    "    {conversation_history}\n",
    "    {node_history}\n",
    "    {document_templates}\n",
    "    {document_history}\n",
    "    {strategy_history}\n",
    "    {reflection_history}\n",
    "    {requirements_history}\n",
    "    {structure_history}\n",
    "    \n",
    "    The document structure should be a list of sections with a title and a description of what is expected in those sections.\n",
    "    It should also include a list of sub-sections with a title and a description of what is expected in those sub-sections.\n",
    "    The document structure should be in a format that is easy to understand and follow.\n",
    "    It should include the length of the document in pages/words.\n",
    "    It should include the language of the document.\n",
    "    It should include the tone of the document.\n",
    "    It should include the style of the document.\n",
    "    It should include the format of the document in terms of the number of columns, font size, font family, etc.\n",
    "    It should include the structure of the document in terms of the number of sections, sub-sections, paragraphs, etc.\n",
    "    It should include the content of the document in terms of the number of paragraphs, sentences, words, etc.\n",
    "    It should include the formatting of the document in terms of the number of columns, font size, font family, etc.\n",
    "    It should include the language of the document.\n",
    "    It should include the tone of the document.\n",
    "    It should include the style of the document.\n",
    "\n",
    "    Format:\n",
    "    Strictly adhere to this format. The output must be in JSON\n",
    "\n",
    "    {\n",
    "        \"message_to_andika\": 'Message to andika agent. You can use this to ask for clarification, or update the agent on progress',\n",
    "        \"document_structure\": 'Document structure in XML format',\n",
    "    }\n",
    "\n",
    "   \n",
    "    \"\"\"\n",
    "\n",
    "\n",
    "\n"
   ]
  }
 ],
 "metadata": {
  "kernelspec": {
   "display_name": "LLM",
   "language": "python",
   "name": "python3"
  },
  "language_info": {
   "codemirror_mode": {
    "name": "ipython",
    "version": 3
   },
   "file_extension": ".py",
   "mimetype": "text/x-python",
   "name": "python",
   "nbconvert_exporter": "python",
   "pygments_lexer": "ipython3",
   "version": "3.10.14"
  }
 },
 "nbformat": 4,
 "nbformat_minor": 2
}
